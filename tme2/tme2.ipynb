{
 "cells": [
  {
   "cell_type": "markdown",
   "metadata": {},
   "source": [
    "# Pour effectuer ce TME (et les suivants)\n",
    "- le notebook comment par importer un fichier tme2.py que vous devez créer et dans lequel\n",
    "vous devez écrire vos fonctions et vos commentaires;\n",
    "- les lignes autoreload permettent que l'environnement d'exécution du notebook recharge\n",
    "le fichier tme1.py à chaque modification;\n",
    "- n'hésitez pas à \"restart kernel\" de temps en temps et à ré-exécuter l'ensemble du notebook;\n",
    "- il faudra soumettre uniquement le fichier tme2.py qui contiendra en première ligne les noms\n",
    "de ses auteurs;\n",
    "- le fichier pdf fourni contient le notebook version finale (avec tous les résultats demandés)."
   ]
  },
  {
   "cell_type": "code",
   "execution_count": null,
   "metadata": {
    "execution": {
     "iopub.execute_input": "2023-09-16T14:05:30.695054Z",
     "iopub.status.busy": "2023-09-16T14:05:30.694677Z",
     "iopub.status.idle": "2023-09-16T14:05:31.051421Z",
     "shell.execute_reply": "2023-09-16T14:05:31.050787Z",
     "shell.execute_reply.started": "2023-09-16T14:05:30.695016Z"
    }
   },
   "outputs": [],
   "source": [
    "%load_ext autoreload\n",
    "%autoreload 2\n",
    "import tme2"
   ]
  },
  {
   "cell_type": "code",
   "execution_count": null,
   "metadata": {
    "execution": {
     "iopub.execute_input": "2023-09-16T14:05:31.052749Z",
     "iopub.status.busy": "2023-09-16T14:05:31.052565Z",
     "iopub.status.idle": "2023-09-16T14:05:31.060416Z",
     "shell.execute_reply": "2023-09-16T14:05:31.059849Z",
     "shell.execute_reply.started": "2023-09-16T14:05:31.052737Z"
    }
   },
   "outputs": [],
   "source": [
    "import numpy as np\n",
    "import math\n",
    "\n",
    "import matplotlib.pyplot as plt"
   ]
  },
  {
   "cell_type": "markdown",
   "metadata": {},
   "source": [
    "# MAPSI - TME  - Rappels de Proba/stats"
   ]
  },
  {
   "cell_type": "markdown",
   "metadata": {},
   "source": [
    "## I- La planche de Galton (<font color=\"red\"> obligatoire</font>)"
   ]
  },
  {
   "cell_type": "markdown",
   "metadata": {},
   "source": [
    "### I.1- Loi de Bernoulli\n",
    "Écrire une fonction `bernoulli: float ->int` qui prend en argument la paramètre $p \\in [0,1]$ et qui renvoie aléatoirement $0$ (avec la probabilité $1-p$) ou $1$ (avec la probabilité $p$)."
   ]
  },
  {
   "cell_type": "code",
   "execution_count": null,
   "metadata": {
    "execution": {
     "iopub.execute_input": "2023-09-16T14:05:31.060993Z",
     "iopub.status.busy": "2023-09-16T14:05:31.060882Z",
     "iopub.status.idle": "2023-09-16T14:05:31.085590Z",
     "shell.execute_reply": "2023-09-16T14:05:31.084850Z",
     "shell.execute_reply.started": "2023-09-16T14:05:31.060982Z"
    }
   },
   "outputs": [],
   "source": [
    "# test de la méthode précédente (triviale pour Bernoulli mais utile en général)\n",
    "print(np.array([tme2.bernoulli(p=0.3) for i in range(300)]).mean()) # moyenne de 300 tirages pour p = 0.3 => ~0.3\n",
    "print(np.array([tme2.bernoulli(p=0.5) for i in range(300)]).mean()) # moyenne de 300 tirages pour p = 0.5 => ~0.5\n",
    "print(np.array([tme2.bernoulli(p=1) for i in range(300)]).mean())   # moyenne de 300 tirages pour p = 1   => =1"
   ]
  },
  {
   "cell_type": "markdown",
   "metadata": {},
   "source": [
    "### I.2- Loi binomiale\n",
    "Écrire une fonction `binomiale: int , float -> int` qui prend en argument un entier $n$ et $p \\in [0,1]$ et qui renvoie aléatoirement un nimbre tiré selon la distribution ${\\cal B}(n,p)$."
   ]
  },
  {
   "cell_type": "code",
   "execution_count": null,
   "metadata": {
    "execution": {
     "iopub.execute_input": "2023-09-16T14:05:31.087498Z",
     "iopub.status.busy": "2023-09-16T14:05:31.086864Z",
     "iopub.status.idle": "2023-09-16T14:05:31.115136Z",
     "shell.execute_reply": "2023-09-16T14:05:31.114355Z",
     "shell.execute_reply.started": "2023-09-16T14:05:31.087461Z"
    }
   },
   "outputs": [],
   "source": [
    "# TEST\n",
    "# espérance = np\n",
    "print(np.array([tme2.binomiale(n=10,p=0.3) for i in range(300)]).mean()) # moyenne de 300 tirages pour n=10 p = 0.3 => 3\n",
    "print(np.array([tme2.binomiale(n=20,p=0.3) for i in range(300)]).mean()) # moyenne de 300 tirages pour n=20 p = 0.3 => 6\n",
    "print(np.array([tme2.binomiale(n=10,p=0.8) for i in range(300)]).mean()) # moyenne de 300 tirages pour n=10 p = 0.8 => 8"
   ]
  },
  {
   "cell_type": "markdown",
   "metadata": {},
   "source": [
    "### I.3- Histogramme de la loi binomiale\n",
    "<img src=\"res/tme2_Galton.jpg\" title=\"Planche de Galton\" style=\"float: right;\">\n",
    "\n",
    "Dans cette question, on considère une planche de Galton de hauteur $n$. On rappelle que des bâtons horizontaux (oranges) sont cloués à cette planche comme le montre la figure ci-contre. \n",
    "\n",
    " Des billes bleues tombent du haut de la planche et, à chaque niveau, se retrouvent à la verticale d'un des bâtons. Elles vont alors tomber soit à gauche, soit à droite du bâton, jusqu'à atteindre le bas de la planche. Ce dernier est constitué de petites boites dont les bords sont symbolisés par les lignes verticales grises. \n",
    " \n",
    "Chaque boite renferme des billes qui sont passées exactement le même nombre de fois à droite des bâtons oranges. Par exemple, la boite la plus à gauche renferme les billes qui ne sont jamais passées à droite d'un bâton, celle juste à sa droite renferme les billes passées une seule fois à droite d'un bâton et toutes les autres fois à gauche, et ainsi de suite. \n",
    "\n",
    "La répartition des billes dans les boites suit donc une loi binomiale ${\\cal B}(n,0.5)$. \n",
    "\n",
    "Écrire un function galton(l) qui crée un tableau de $l$ cases dont le contenu correspond à $l$ instanciations de la loi binomiale ${\\cal B}(n,p)$."
   ]
  },
  {
   "cell_type": "code",
   "execution_count": null,
   "metadata": {
    "execution": {
     "iopub.execute_input": "2023-09-16T14:05:31.116964Z",
     "iopub.status.busy": "2023-09-16T14:05:31.116337Z",
     "iopub.status.idle": "2023-09-16T14:05:31.139845Z",
     "shell.execute_reply": "2023-09-16T14:05:31.139360Z",
     "shell.execute_reply.started": "2023-09-16T14:05:31.116928Z"
    }
   },
   "outputs": [],
   "source": [
    "tme2.galton(l=100,n=20,p=0.5)"
   ]
  },
  {
   "cell_type": "markdown",
   "metadata": {},
   "source": [
    "Afin de voir la répartition des billes dans la planche de Galton, tracer l'histogramme de ce tableau. Vous pourrez utiliser la fonction hist de matplotlib.pyplot: "
   ]
  },
  {
   "cell_type": "code",
   "execution_count": null,
   "metadata": {
    "execution": {
     "iopub.execute_input": "2023-09-16T14:05:31.140950Z",
     "iopub.status.busy": "2023-09-16T14:05:31.140639Z",
     "iopub.status.idle": "2023-09-16T14:05:31.273756Z",
     "shell.execute_reply": "2023-09-16T14:05:31.273136Z",
     "shell.execute_reply.started": "2023-09-16T14:05:31.140928Z"
    }
   },
   "outputs": [],
   "source": [
    "import matplotlib.pyplot as plt\n",
    "\n",
    "plt.hist ([0,1,2,1,2,4,1,1], 4);"
   ]
  },
  {
   "cell_type": "markdown",
   "metadata": {},
   "source": [
    "Ecrire la fonction `histo_galton` qui trace l'histogramme de la répartition des billes dans la planche. \n",
    "Pour le nombre de bins, calculez le nombre de valeurs différentes dans votre tableau."
   ]
  },
  {
   "cell_type": "code",
   "execution_count": null,
   "metadata": {
    "execution": {
     "iopub.execute_input": "2023-09-16T14:05:31.275418Z",
     "iopub.status.busy": "2023-09-16T14:05:31.275210Z",
     "iopub.status.idle": "2023-09-16T14:05:31.386995Z",
     "shell.execute_reply": "2023-09-16T14:05:31.386366Z",
     "shell.execute_reply.started": "2023-09-16T14:05:31.275405Z"
    }
   },
   "outputs": [],
   "source": [
    "nb_billes = 1000\n",
    "tme2.histo_galton(l=nb_billes,n = 20,p = 0.5)"
   ]
  },
  {
   "cell_type": "markdown",
   "metadata": {},
   "source": [
    "## II- Visualisation d'indépendances (<font color=\"red\"> obligatoire</font>)"
   ]
  },
  {
   "cell_type": "markdown",
   "metadata": {},
   "source": [
    "### II.1- Loi normale centrée réduite\n",
    "<img src=\"res/tme2_normale.jpg\" title=\"Planche de Galton\" style=\"float: right;\">\n",
    "\n",
    "On souhaite visualiser la fonction de densité de la loi normale. Pour cela, on va créer un ensemble de $k$ points $(x_i,y_i$), pour des $x_i$ équi-espacés variant de $-2σ$ à $2σ$, les $y_i$ correspondant à la valeur de la fonction de densité de la loi normale centrée de variance $σ^2$, autrement dit ${\\cal N}(0,σ^2)$.\n",
    "\n",
    "Écrire une fonction `normale : int , float -> float np.array` qui, étant donné un paramètre entier `k` impair et un paramètre réel `sigma` renvoie l'`array numpy` des $k$ valeurs $y_i$. Afin que l'`array numpy` soit bien symmétrique, on lèvera une exception si $k$ est pair."
   ]
  },
  {
   "cell_type": "markdown",
   "metadata": {},
   "source": [
    "Vérfier la validité de votre fonction en affichant grâce à la fonction plot les points générés dans une figure. "
   ]
  },
  {
   "cell_type": "code",
   "execution_count": null,
   "metadata": {
    "execution": {
     "iopub.execute_input": "2023-09-16T14:05:31.387709Z",
     "iopub.status.busy": "2023-09-16T14:05:31.387562Z",
     "iopub.status.idle": "2023-09-16T14:05:31.490576Z",
     "shell.execute_reply": "2023-09-16T14:05:31.489759Z",
     "shell.execute_reply.started": "2023-09-16T14:05:31.387695Z"
    }
   },
   "outputs": [],
   "source": [
    "k=21\n",
    "sigma=2\n",
    "\n",
    "P2 = tme2.normale ( k, sigma )\n",
    "\n",
    "# affichage de la loi normale\n",
    "### entre -2 sigma et 2 sigma\n",
    "#x=np.linspace ( -2 * sigma, 2 * sigma, k )\n",
    "### entre 0 et k-1\n",
    "x=range(k)\n",
    "plt.plot(x,P2,'b-');"
   ]
  },
  {
   "cell_type": "markdown",
   "metadata": {},
   "source": [
    "### II.2- Distribution de probabilité affine\n",
    "<img src=\"res/tme2_lineaire.jpg\" title=\"Distribution affine\" style=\"float: right;\">\n",
    "\n",
    "Dans cette question, on considère une généralisation de la distribution uniforme: une distribution affine, c'est-à-dire que la fonction de densité est une droite, mais pas forcément horizontale, comme le montre la figure ci-contre. \n",
    "\n",
    "Écrire une fonction `proba_affine : int , float -> float np.array` qui, comme dans la question précédente, va générer un ensemble de $k$ points $y_i, i=0,...,k−1$, représentant cette distribution (paramétrée par sa pente `slope`). On vérifiera ici aussi que l'entier $k$ est impair. Si la pente est égale à $0$, c'est-à-dire si la distribution est uniforme, chaque point $y_i$ devrait être égal à $\\frac{1}{k}$ (afin que $\\sum y_i=1$). Si la pente est différente de $0$, il suffit de choisir, $\\forall i=0,...,k−1$,\n",
    "\n",
    "$$y_i=\\frac{1}{k}+(i−\\frac{k−1}{2})×slope$$\n",
    "\n",
    "Vous pourrez aisément vérifier que, ici aussi, $\\sum y_i=1$. Afin que la distribution soit toujours positive (c'est quand même un minimum pour une distribution de probabilité), il faut que la pente slope ne soit ni trop grande ni trop petite. Le bout de code ci-dessous lèvera une exception si la pente est trop élevée et indiquera la pente maximale possible. "
   ]
  },
  {
   "cell_type": "code",
   "execution_count": null,
   "metadata": {
    "execution": {
     "iopub.execute_input": "2023-09-16T14:05:31.492717Z",
     "iopub.status.busy": "2023-09-16T14:05:31.492014Z",
     "iopub.status.idle": "2023-09-16T14:05:31.630701Z",
     "shell.execute_reply": "2023-09-16T14:05:31.629749Z",
     "shell.execute_reply.started": "2023-09-16T14:05:31.492680Z"
    }
   },
   "outputs": [],
   "source": [
    "k=21\n",
    "slop=0.0045\n",
    "x=range(k)\n",
    "P1 = tme2.proba_affine( k,0.0045)\n",
    "plt.plot(x,P1,'b-');"
   ]
  },
  {
   "cell_type": "markdown",
   "metadata": {},
   "source": [
    "### II.3- Distribution jointe\n",
    "Écrire une fonction `Pxy : float np.array , float np.array -> float np.2D-array` qui, étant donné deux tableaux numpy de nombres réels à $1$ dimension générés par les fonctions des questions précédentes et représentant deux distributions de probabilités $P(A)$ et $P(B)$, renvoie la distribution jointe $P(A,B)$ sous forme d'un tableau numpy à $2$ dimensions de nombres réels, en supposant que $A$ et $B$ sont des variables aléatoires indépendantes. Par exemple, si:"
   ]
  },
  {
   "cell_type": "code",
   "execution_count": null,
   "metadata": {
    "execution": {
     "iopub.execute_input": "2023-09-16T14:05:31.633056Z",
     "iopub.status.busy": "2023-09-16T14:05:31.632221Z",
     "iopub.status.idle": "2023-09-16T14:05:31.648196Z",
     "shell.execute_reply": "2023-09-16T14:05:31.647283Z",
     "shell.execute_reply.started": "2023-09-16T14:05:31.633017Z"
    }
   },
   "outputs": [],
   "source": [
    "PA = np.array ( [0.2, 0.7, 0.1] )\n",
    "PB = np.array ( [0.4, 0.4, 0.2] )"
   ]
  },
  {
   "cell_type": "markdown",
   "metadata": {},
   "source": [
    "alors `Pxy(A,B)` renverra le tableau :\n",
    "```\n",
    "np.array([[ 0.08,  0.08,  0.04],\n",
    "          [ 0.28,  0.28,  0.14],\n",
    "          [ 0.04,  0.04,  0.02]])\n",
    "```"
   ]
  },
  {
   "cell_type": "code",
   "execution_count": null,
   "metadata": {
    "execution": {
     "iopub.execute_input": "2023-09-16T14:05:31.648983Z",
     "iopub.status.busy": "2023-09-16T14:05:31.648832Z",
     "iopub.status.idle": "2023-09-16T14:05:31.664543Z",
     "shell.execute_reply": "2023-09-16T14:05:31.663848Z",
     "shell.execute_reply.started": "2023-09-16T14:05:31.648969Z"
    }
   },
   "outputs": [],
   "source": [
    "print(tme2.Pxy ( PA, PB ))\n",
    "print()    \n",
    "Pprod = tme2.Pxy ( P1, P2 )\n",
    "print(f\"{Pprod.shape=}\")"
   ]
  },
  {
   "cell_type": "markdown",
   "metadata": {},
   "source": [
    "### II.4- Affichage de la distribution jointe\n",
    "<img src=\"res/tme2_jointe.jpg\" title=\"Distribution jointe\" style=\"float: right;\">\n",
    "\n",
    "Le code ci-dessous permet d'afficher en 3D une probabilité jointe générée par la fonction précédente. Exécutez-le avec une probabilité jointe résultant de la combinaison d'une loi normale et d'une distribution affine. \n",
    "\n",
    "Si la commande `%matplotlib notebook` fonctione, vous pouvez interagir avec la courbe. Si le contenu de la fenêtre est vide, redimensionnez celle-ci et le contenu devrait apparaître. Cliquez à la souris à l'intérieur de la fenêtre et bougez la souris en gardant le bouton appuyé afin de faire pivoter la courbe. Observez sous différents angles cette courbe. Refaites l'expérience avec une probaiblité jointe résultant de deux lois normales. Essayez de comprendre ce que signifie, visuellement, l'indépendance probabiliste. Vous pouvez également recommencer l'expérience avec le logarithme des lois jointes.\n"
   ]
  },
  {
   "cell_type": "code",
   "execution_count": null,
   "metadata": {
    "execution": {
     "iopub.execute_input": "2023-09-16T14:05:31.665431Z",
     "iopub.status.busy": "2023-09-16T14:05:31.665245Z",
     "iopub.status.idle": "2023-09-16T14:05:31.680606Z",
     "shell.execute_reply": "2023-09-16T14:05:31.679718Z",
     "shell.execute_reply.started": "2023-09-16T14:05:31.665413Z"
    }
   },
   "outputs": [],
   "source": [
    "from mpl_toolkits.mplot3d import Axes3D\n",
    "%matplotlib inline\n",
    "# essayer `%matplotlib notebook` pour interagir avec la visualisation 3D\n",
    "\n",
    "    \n",
    "def dessine ( ax,P_jointe ):    \n",
    "    x = np.linspace ( -3, 3, P_jointe.shape[0] )\n",
    "    y = np.linspace ( -3, 3, P_jointe.shape[1] )\n",
    "    X, Y = np.meshgrid(x, y)\n",
    "    ax.plot_surface(X, Y, P_jointe, rstride=1, cstride=1 )\n",
    "    ax.set_xlabel('A')\n",
    "    ax.set_ylabel('B')\n",
    "    ax.set_zlabel('P(A) * P(B)')"
   ]
  },
  {
   "cell_type": "code",
   "execution_count": null,
   "metadata": {
    "execution": {
     "iopub.execute_input": "2023-09-16T14:05:31.681568Z",
     "iopub.status.busy": "2023-09-16T14:05:31.681391Z",
     "iopub.status.idle": "2023-09-16T14:05:31.829175Z",
     "shell.execute_reply": "2023-09-16T14:05:31.828136Z",
     "shell.execute_reply.started": "2023-09-16T14:05:31.681553Z"
    }
   },
   "outputs": [],
   "source": [
    "fig = plt.figure(figsize=(5,5))\n",
    "ax = fig.add_subplot(111, projection='3d')\n",
    "dessine(ax,np.array([[ 0.08,  0.08,  0.04],\n",
    "                  [ 0.28,  0.28,  0.14],\n",
    "                  [ 0.04,  0.04,  0.02]]))"
   ]
  },
  {
   "cell_type": "code",
   "execution_count": null,
   "metadata": {
    "execution": {
     "iopub.execute_input": "2023-09-16T14:05:31.831165Z",
     "iopub.status.busy": "2023-09-16T14:05:31.830611Z",
     "iopub.status.idle": "2023-09-16T14:05:32.212612Z",
     "shell.execute_reply": "2023-09-16T14:05:32.212229Z",
     "shell.execute_reply.started": "2023-09-16T14:05:31.831129Z"
    }
   },
   "outputs": [],
   "source": [
    "nb_bins = 21\n",
    "P1 = tme2.proba_affine ( nb_bins,0.004)\n",
    "P2 = tme2.normale ( nb_bins, 2 )\n",
    "P3 = tme2.normale ( nb_bins, 6 )\n",
    "\n",
    "fig = plt.figure(figsize=(15,5))\n",
    "ax = fig.add_subplot(1,3,1, projection='3d')\n",
    "dessine ( ax,tme2.Pxy (P1,P3) )\n",
    "ax = fig.add_subplot(1,3,2, projection='3d')\n",
    "dessine ( ax,tme2.Pxy (P2,P3) )\n",
    "ax = fig.add_subplot(1,3,3, projection='3d')\n",
    "dessine ( ax,tme2.Pxy (P2,P1) )"
   ]
  },
  {
   "cell_type": "markdown",
   "metadata": {},
   "source": [
    "## III- Indépendances conditionnelles (<font color=\"red\"> obligatoire</font>)\n",
    "\n",
    "Dans cet exercice, on considère quatre variables aléatoires booléennes $X$, $Y$, $Z$ et $T$ ainsi que leur distribution jointe $P(X,Y,Z,T)$ encodée en python de la manière suivante : "
   ]
  },
  {
   "cell_type": "code",
   "execution_count": null,
   "metadata": {
    "execution": {
     "iopub.execute_input": "2023-09-16T14:05:32.213368Z",
     "iopub.status.busy": "2023-09-16T14:05:32.213167Z",
     "iopub.status.idle": "2023-09-16T14:05:32.221460Z",
     "shell.execute_reply": "2023-09-16T14:05:32.221098Z",
     "shell.execute_reply.started": "2023-09-16T14:05:32.213355Z"
    }
   },
   "outputs": [],
   "source": [
    "# creation de P(X,Y,Z,T)\n",
    "P_XYZT = np.array([[[[ 0.0192,  0.1728],\n",
    "                     [ 0.0384,  0.0096]],\n",
    "\n",
    "                    [[ 0.0768,  0.0512],\n",
    "                     [ 0.016 ,  0.016 ]]],\n",
    "\n",
    "                   [[[ 0.0144,  0.1296],\n",
    "                     [ 0.0288,  0.0072]],\n",
    "\n",
    "                    [[ 0.2016,  0.1344],\n",
    "                     [ 0.042 ,  0.042 ]]]])"
   ]
  },
  {
   "cell_type": "markdown",
   "metadata": {},
   "source": [
    "Ainsi, $\\forall (x,y,z,t) \\in \\{0,1\\}^4$, `P_XYZT[x][y][z][t]` correspond à $P(X=x,Y=y,Z=z,T=t)$ ou, en version abrégée, à $P(x,y,z,t)$. "
   ]
  },
  {
   "cell_type": "markdown",
   "metadata": {},
   "source": [
    "### III.1- Indépendance de X et T conditionnellement à (Y,Z)\n",
    "On souhaite tester si les variables aléatoires $X$ et $T$ sont indépendantes conditionnellement à $(Y,Z)$. Il s'agit donc de vérifer que dans la loi $P$, $$P(X,T|Y,Z)=P(X|Y,Z)\\cdot P(T|Y,Z)$$\n",
    "\n",
    "\n",
    "Pour cela, tout d'abord, écrire une fonction calcXZ qui à partir de `P_XYZT` calcule le tableau `P_YZ` représentant la distribution $P(Y,Z)$. On rappelle que $$P(Y,Z)=\\sum_{X,T} P(X,Y,Z,T)$$\n",
    "\n",
    "Le tableau `P_YZ` est donc un tableau à deux dimensions, dont la première correspond à $Y$ et la deuxième à $Z$. Si vous ne vous êtes pas trompé(e)s, vous devez obtenir le tableau suivant : \n",
    "```\n",
    "np.array([[ 0.336,  0.084],\n",
    "          [ 0.464,  0.116]])\n",
    "```\n",
    "\n",
    "Ainsi $P(Y=0,Z=1)=$ `P_YZ[0][1]` $=0.084$"
   ]
  },
  {
   "cell_type": "code",
   "execution_count": null,
   "metadata": {
    "execution": {
     "iopub.execute_input": "2023-09-16T14:05:32.222102Z",
     "iopub.status.busy": "2023-09-16T14:05:32.221942Z",
     "iopub.status.idle": "2023-09-16T14:05:32.275862Z",
     "shell.execute_reply": "2023-09-16T14:05:32.275020Z",
     "shell.execute_reply.started": "2023-09-16T14:05:32.222090Z"
    }
   },
   "outputs": [],
   "source": [
    "# calcul de P(Y,Z)\n",
    "P_YZ = tme2.calcYZ(P_XYZT)\n",
    "                \n",
    "print(P_YZ)"
   ]
  },
  {
   "cell_type": "markdown",
   "metadata": {},
   "source": [
    "Ensuite, écrire la fonction calcXTcondY qui calcule le tableau `P_XTcondYZ` représentant la distribution $P(X,T|Y,Z)$. Ce tableau a donc 4 dimensions, chacune correspondant à une des variables aléatoires. De plus, les valeurs de `P_XTcondYZ` sont obtenues en utilisant la formule des probabilités conditionnelles: $$P(X,T|Y,Z)=\\frac{P(X,Y,Z,T)}{P(Y,Z)}$$"
   ]
  },
  {
   "cell_type": "code",
   "execution_count": null,
   "metadata": {
    "execution": {
     "iopub.execute_input": "2023-09-16T14:05:32.277824Z",
     "iopub.status.busy": "2023-09-16T14:05:32.277138Z",
     "iopub.status.idle": "2023-09-16T14:05:32.297184Z",
     "shell.execute_reply": "2023-09-16T14:05:32.296468Z",
     "shell.execute_reply.started": "2023-09-16T14:05:32.277790Z"
    }
   },
   "outputs": [],
   "source": [
    "# calcul de P(X,T | Y,Z) = P(X,Y,Z,T) / P(Y,Z)\n",
    "P_XTcondYZ=tme2.calcXTcondYZ(P_XYZT)\n",
    "\n",
    "print(P_XTcondYZ)"
   ]
  },
  {
   "cell_type": "markdown",
   "metadata": {},
   "source": [
    "Ecrire la fonction calcX_et_TcondYZ qui, à partir de `P_XTYZ` calcule la paire de tableaux à 3 dimensions `P_XcondYZ` et `P_TcondYZ` représentant respectivement les distributions $P(X|Y,Z)$ et $P(T|Y,Z)$. On rappelle que $$P(X|Y,Z)=∑_T P(X,T|Y,Z)$$"
   ]
  },
  {
   "cell_type": "code",
   "execution_count": null,
   "metadata": {
    "execution": {
     "iopub.execute_input": "2023-09-16T14:05:32.298957Z",
     "iopub.status.busy": "2023-09-16T14:05:32.298402Z",
     "iopub.status.idle": "2023-09-16T14:05:32.313557Z",
     "shell.execute_reply": "2023-09-16T14:05:32.312482Z",
     "shell.execute_reply.started": "2023-09-16T14:05:32.298922Z"
    }
   },
   "outputs": [],
   "source": [
    "P_XcondYZ,P_TcondYZ = tme2.calcX_etTcondYZ(P_XYZT)\n",
    "                \n",
    "print(f\"{P_XcondYZ=}\")\n",
    "print()\n",
    "print(f\"{P_TcondYZ=}\")"
   ]
  },
  {
   "cell_type": "markdown",
   "metadata": {},
   "source": [
    "Enfin, Ecirer une fonction de test testXTindepCondYZ qui vérifie si $X$ et $T$ sont indépendantes conditionnellement à $(Y,Z)$ dans la distribution P_XYZT: si c'est bien le cas, on doit avoir $$P(X,T|Y,Z)=P(X|Y,Z)×P(T|Y,Z)$$ \n",
    "\n",
    "(attention, l'égalité numérique est à vérifier à un epsilon près (par exemple epsilon=1e-10))"
   ]
  },
  {
   "cell_type": "code",
   "execution_count": null,
   "metadata": {
    "execution": {
     "iopub.execute_input": "2023-09-16T14:05:32.315656Z",
     "iopub.status.busy": "2023-09-16T14:05:32.314984Z",
     "iopub.status.idle": "2023-09-16T14:05:32.337814Z",
     "shell.execute_reply": "2023-09-16T14:05:32.336935Z",
     "shell.execute_reply.started": "2023-09-16T14:05:32.315618Z"
    }
   },
   "outputs": [],
   "source": [
    "if tme2.testXTindepCondYZ(P_XYZT,epsilon=1e-10):\n",
    "    print(\"X indep T | Y,Z\")\n",
    "else:\n",
    "    print(\"X non indep T | Y,Z\")"
   ]
  },
  {
   "cell_type": "markdown",
   "metadata": {},
   "source": [
    "### III.2- Indépendance de X et (Y,Z)\n",
    "\n",
    "On souhaite maintenant écrire la fonction testXindepYZ qui vérifie si $X$ et $(Y,Z)$ sont indépendantes dans la distribution P_XYZT. \n",
    "\n",
    "Pour cela, \n",
    "\n",
    "1- commencer par calculer à partir de `P_XYZT` le tableau `P_XYZ` représentant la distribution $P(X,Y,Z)$. \n",
    "\n",
    "2- Ensuite, calculer à partir de `P_XYZ` les tableaux `P_X` et `P_YZ` représentant respectivement les distributions $P(X)$ et $P(Y,Z)$. On rappelle que $$P(X)=∑_Y∑_Z P(X,Y,Z)$$\n",
    "\n",
    "Si vous ne vous êtes pas trompé(e), `P_X` doit être égal au tableau suivant : \n",
    "```\n",
    "np.array([ 0.4,  0.6])\n",
    "```\n",
    "\n",
    "3- Enfin, si $X$ et $(Y,Z)$ sont bien indépendantes, on doit avoir $$P(X,Y,Z)=P(X)×P(Y,Z)$$"
   ]
  },
  {
   "cell_type": "code",
   "execution_count": null,
   "metadata": {
    "execution": {
     "iopub.execute_input": "2023-09-16T14:05:32.339220Z",
     "iopub.status.busy": "2023-09-16T14:05:32.338923Z",
     "iopub.status.idle": "2023-09-16T14:05:32.359342Z",
     "shell.execute_reply": "2023-09-16T14:05:32.358429Z",
     "shell.execute_reply.started": "2023-09-16T14:05:32.339191Z"
    }
   },
   "outputs": [],
   "source": [
    "if tme2.testXindepYZ(P_XYZT,epsilon=1e-10):\n",
    "    print(\"X indep Y,Z\")\n",
    "else:\n",
    "    print(\"X non indep Y,Z\")"
   ]
  },
  {
   "cell_type": "markdown",
   "metadata": {},
   "source": [
    "## IV- Indépendances conditionnelles et consommation mémoire  (<font color=\"red\"> obligatoire</font>)\n",
    "\n",
    "Le but de cet exercice est d'exploiter les probabilités conditionnelles et les indépendances conditionnelles afin de décomposer une probabilité jointe en un produit de \"petites probabilités conditionnelles\". Cela permet de stocker des probabilités jointes de grandes tailles sur des ordinateurs \"standards\". Au cours de l'exercice, vous allez donc partir d'une probabilité jointe et, progressivement, construire un programme qui identifie ces indépendances conditionnelles.\n",
    "\n",
    "Pour simplifier, dans la suite de cet exercice, nous allons considérer un ensemble $X_0,…,X_n$ de variables aléatoires binaires (elles ne peuvent prendre que 2 valeurs : 0 et 1). \n",
    "\n",
    "### Simplification du code : utilisation de pyAgrum\n",
    "\n",
    "Manipuler des probabilités et des opérations sur des probabilités complexes est difficiles avec les outils classiques. La difficulté principale est certainement le problème du mapping entre axe et variable aléatoire. `pyAgrum` propose une gestion de `Potential` qui sont des tableaux multidimensionnels dont les axes sont caractérisés par des variables et sont donc non ambigüs.\n",
    "\n",
    "Par exemple, après l'initiation du `Potential PABCD` :"
   ]
  },
  {
   "cell_type": "code",
   "execution_count": null,
   "metadata": {
    "execution": {
     "iopub.execute_input": "2023-09-16T14:05:32.360948Z",
     "iopub.status.busy": "2023-09-16T14:05:32.360560Z",
     "iopub.status.idle": "2023-09-16T14:05:32.405943Z",
     "shell.execute_reply": "2023-09-16T14:05:32.404803Z",
     "shell.execute_reply.started": "2023-09-16T14:05:32.360919Z"
    }
   },
   "outputs": [],
   "source": [
    "import pyAgrum as gum\n",
    "import pyAgrum.lib.notebook as gnb\n",
    "\n",
    "X,Y,Z,T=[gum.LabelizedVariable(x,x,2) for x in \"XYZT\"]\n",
    "pXYZT=gum.Potential().add(T).add(Z).add(Y).add(X)\n",
    "pXYZT[:]=[[[[ 0.0192,  0.1728],\n",
    "            [ 0.0384,  0.0096]],\n",
    "           [[ 0.0768,  0.0512],\n",
    "            [ 0.016 ,  0.016 ]]],\n",
    "          [[[ 0.0144,  0.1296],\n",
    "            [ 0.0288,  0.0072]],\n",
    "           [[ 0.2016,  0.1344],\n",
    "            [ 0.042 ,  0.042 ]]]]\n",
    "\n",
    "pXYZT"
   ]
  },
  {
   "cell_type": "markdown",
   "metadata": {},
   "source": [
    "On peut alors utiliser la méthode `margSumOut` qui supprime les variables par sommations: `p.margSumOut(['X','Y'])` correspond à calculer $\\sum_{X,Y} p$\n",
    "\n",
    "La réponse a question III.1 se calcule donc ainsi :"
   ]
  },
  {
   "cell_type": "code",
   "execution_count": null,
   "metadata": {
    "execution": {
     "iopub.execute_input": "2023-09-16T14:05:32.411995Z",
     "iopub.status.busy": "2023-09-16T14:05:32.411270Z",
     "iopub.status.idle": "2023-09-16T14:05:32.431018Z",
     "shell.execute_reply": "2023-09-16T14:05:32.429636Z",
     "shell.execute_reply.started": "2023-09-16T14:05:32.411958Z"
    }
   },
   "outputs": [],
   "source": [
    "pXT_YZ=pXYZT/pXYZT.margSumOut(['X','T'])\n",
    "pX_YZ=pXT_YZ.margSumOut(['T'])\n",
    "pT_YZ=pXT_YZ.margSumOut(['X'])\n",
    "\n",
    "if pXT_YZ==pX_YZ*pT_YZ:\n",
    "    print(\"=> X et T sont indépendants conditionnellemnt à Y et Z\")\n",
    "else:\n",
    "    print(\"=> pas d'indépendance trouvée\")\n"
   ]
  },
  {
   "cell_type": "markdown",
   "metadata": {},
   "source": [
    "La réponse à la question III.2 se calcule ainsi :"
   ]
  },
  {
   "cell_type": "code",
   "execution_count": null,
   "metadata": {
    "execution": {
     "iopub.execute_input": "2023-09-16T14:05:32.432144Z",
     "iopub.status.busy": "2023-09-16T14:05:32.431943Z",
     "iopub.status.idle": "2023-09-16T14:05:32.446602Z",
     "shell.execute_reply": "2023-09-16T14:05:32.445693Z",
     "shell.execute_reply.started": "2023-09-16T14:05:32.432126Z"
    }
   },
   "outputs": [],
   "source": [
    "pXYZ=pXYZT.margSumOut(\"T\")\n",
    "pYZ=pXYZ.margSumOut(\"X\")\n",
    "pX=pXYZ.margSumOut([\"Y\",\"Z\"])\n",
    "if pXYZ==pX*pYZ:\n",
    "    print(\"=> X et YZ sont indépendants\")\n",
    "else:\n",
    "    print(\"=> pas d'indépendance trouvée\")"
   ]
  },
  {
   "cell_type": "code",
   "execution_count": null,
   "metadata": {
    "execution": {
     "iopub.execute_input": "2023-09-16T14:05:32.448806Z",
     "iopub.status.busy": "2023-09-16T14:05:32.448161Z",
     "iopub.status.idle": "2023-09-16T14:05:32.466246Z",
     "shell.execute_reply": "2023-09-16T14:05:32.465258Z",
     "shell.execute_reply.started": "2023-09-16T14:05:32.448771Z"
    }
   },
   "outputs": [],
   "source": [
    "gnb.sideBySide(pXYZ,pX,pYZ,pX*pYZ,\n",
    "               captions=['$P(X,Y,Z)$','$P(X)$','$P(Y,Z)$','$P(X)\\cdot P(Y,Z)$'])"
   ]
  },
  {
   "cell_type": "markdown",
   "metadata": {},
   "source": [
    "`asia.txt` contient la description d'une probabilité jointe sur un ensemble de $8$ variables aléatoires binaires (256 paramètres). Le fichier est produit à partir du site web suivant `http://www.bnlearn.com/bnrepository/`.\n",
    "\n",
    "Le code suivant permet de lire ce fichier et d'en récupérer la probabilité jointe (sous forme d'une `gum.Potential`) qu'il contient : "
   ]
  },
  {
   "cell_type": "code",
   "execution_count": null,
   "metadata": {
    "execution": {
     "iopub.execute_input": "2023-09-16T14:05:32.468355Z",
     "iopub.status.busy": "2023-09-16T14:05:32.467653Z",
     "iopub.status.idle": "2023-09-16T14:05:32.493104Z",
     "shell.execute_reply": "2023-09-16T14:05:32.492296Z",
     "shell.execute_reply.started": "2023-09-16T14:05:32.468319Z"
    }
   },
   "outputs": [],
   "source": [
    "def read_file ( filename ):\n",
    "    \"\"\"\n",
    "    Renvoie les variables aléatoires et la probabilité contenues dans le\n",
    "    fichier dont le nom est passé en argument.\n",
    "    \"\"\"\n",
    "    Pres = gum.Potential ()\n",
    "    vars=[]\n",
    "\n",
    "    with open ( filename, 'r' ) as fic:\n",
    "        # on rajoute les variables dans le potentiel\n",
    "        nb_vars = int ( fic.readline () )\n",
    "        for i in range ( nb_vars ):\n",
    "            name, domsize = fic.readline ().split ()\n",
    "            vars.append(name)\n",
    "            variable = gum.LabelizedVariable(name,name,int (domsize))\n",
    "            Pres.add(variable)\n",
    "\n",
    "        # on rajoute les valeurs de proba dans le potentiel\n",
    "        cpt = []\n",
    "        for line in fic:\n",
    "            cpt.append ( float(line) )\n",
    "        Pres.fillWith( cpt )\n",
    "    return vars,Pres\n",
    "\n",
    "vars,Pjointe=read_file('res/asia.txt')\n",
    "# afficher Pjointe est un peu délicat (retire le commentaire de la ligne suivante)\n",
    "# Pjointe\n",
    "\n",
    "print('Les variables : '+str(vars))"
   ]
  },
  {
   "cell_type": "code",
   "execution_count": null,
   "metadata": {
    "execution": {
     "iopub.execute_input": "2023-09-16T14:05:32.495846Z",
     "iopub.status.busy": "2023-09-16T14:05:32.494812Z",
     "iopub.status.idle": "2023-09-16T14:05:32.516442Z",
     "shell.execute_reply": "2023-09-16T14:05:32.515444Z",
     "shell.execute_reply.started": "2023-09-16T14:05:32.495790Z"
    }
   },
   "outputs": [],
   "source": [
    "# Noter qu'il existe une fonction margSumIn qui, à l'inverse de MargSumOut, élimine \n",
    "# toutes les variables qui ne sont pas dans les arguments\n",
    "Pjointe.margSumIn(['tuberculosis?','lung_cancer?'])"
   ]
  },
  {
   "cell_type": "markdown",
   "metadata": {},
   "source": [
    "### IV.1- test d'indépendance conditionnelle\n",
    "\n",
    "En utilisant la méthode `margSumIn` (voir juste au dessus), écrire une fonction `conditional_indep: Potential,str,str,list[str]->bool` qui rend vrai si dans le `Potential`, on peut lire l'indépendance conditionnelle.\n",
    "\n",
    "Par exemple, l'appel\n",
    "\n",
    "`conditional_indep(Pjointe,'bronchitis?', 'positive_Xray?',['tuberculosis?','lung_cancer?'])` \n",
    "\n",
    "vérifie si bronchitis est indépendant de `posititve_Xray` conditionnellement à `tuberculosis?` et `lung_cancer?`\n",
    "\n",
    "D'un point de vue général, on vérifie que $X$ et $Y$ sont indépendants conditionnellement à $Z_1,\\cdots,Z_d$ par l'égalité :\n",
    "$$P(X,Y|Z_1,\\cdots,Z_d)=P(X|Z_1,\\cdot,Z_d)\\cdot P(Y|Z_1,\\cdots,Z_d)$$\n",
    "\n",
    "Ces trois probabilités sont calculables à partir de la loi jointe de $P(X,Y,Z_1,\\cdots,Z_d)$.\n",
    "\n",
    "<em>Remarque</em> Vérifier l'égalité `P==Q` de 2 `Potential` peut être problématique si les 2 sont des résultats de calcul : il peut exister une petite variation. Un meilleur test est de vérifier `(P-Q).abs().max()<epsilon` avec `epsilon` assez petit (par exemple $1e-10$)."
   ]
  },
  {
   "cell_type": "code",
   "execution_count": null,
   "metadata": {
    "execution": {
     "iopub.execute_input": "2023-09-16T14:05:32.518886Z",
     "iopub.status.busy": "2023-09-16T14:05:32.518022Z",
     "iopub.status.idle": "2023-09-16T14:05:32.539903Z",
     "shell.execute_reply": "2023-09-16T14:05:32.538893Z",
     "shell.execute_reply.started": "2023-09-16T14:05:32.518832Z"
    }
   },
   "outputs": [],
   "source": [
    "tme2.conditional_indep(Pjointe,\n",
    "                       'bronchitis?', \n",
    "                       'positive_Xray?',\n",
    "                       ['tuberculosis?','lung_cancer?'],\n",
    "                       epsilon=1e-10)\n"
   ]
  },
  {
   "cell_type": "code",
   "execution_count": null,
   "metadata": {
    "execution": {
     "iopub.execute_input": "2023-09-16T14:05:32.541941Z",
     "iopub.status.busy": "2023-09-16T14:05:32.541368Z",
     "iopub.status.idle": "2023-09-16T14:05:32.562570Z",
     "shell.execute_reply": "2023-09-16T14:05:32.561616Z",
     "shell.execute_reply.started": "2023-09-16T14:05:32.541888Z"
    }
   },
   "outputs": [],
   "source": [
    "tme2.conditional_indep(Pjointe,\n",
    "                       'bronchitis?', \n",
    "                       'visit_to_Asia?',\n",
    "                       [],\n",
    "                       epsilon=1e-10)\n"
   ]
  },
  {
   "cell_type": "markdown",
   "metadata": {},
   "source": [
    "### IV.2- Factorisation compacte de loi jointe\n",
    "\n",
    "On sait que si un ensemble de variables aléatoires ${\\cal S} = \\{X_{i_0},\\ldots,X_{i_{n-1}}\\}$ peut être partitionné en deux sous-ensembles $\\cal K$ et $\\cal L$ (c'est-à-dire tels que ${\\cal K} \\cap {\\cal L} = \\emptyset$ et ${\\cal K} \\cup {\\cal L} = \\{X_{i_0},\\ldots,X_{i_{n-1}}\\}$) tels qu'une variable $X_{i_n}$ est indépendante de ${\\cal L}$ conditionnellement à ${\\cal K}$, alors:\n",
    "\n",
    "$$P(X_{i_n}|X_{i_0},\\ldots,X_{i_{n-1}}) = P(X_{i_n} | {\\cal K},{\\cal L}) = P(X_{i_n} | {\\cal K})$$\n",
    "\n",
    "C'est ce que nous avons vu au cours n°2 (cf. définition des probabilités conditionnelles). Cette formule est intéressante car elle permet de réduire la taille mémoire consommée pour stocker $P(X_{i_n}|X_{i_0},\\ldots,X_{i_{n-1}})$: il suffit en effet de stocker uniquement $P(X_{i_n} | {\\cal K})$ pour obtenir la même information."
   ]
  },
  {
   "cell_type": "markdown",
   "metadata": {},
   "source": [
    "Écrire une fonction `compact_conditional_proba: Potential,str-> Potential` qui, étant donné une probabilité jointe $P(X_{i_0},\\ldots,X_{i_n})$, une variable aléatoire $X_{i_n}$, retourne cette probabilité conditionnelle $P(X_{i_n} | {\\cal K})$. Pour cela, nous vous proposons l'algorithme itératif suivant:\n",
    "\n",
    "```\n",
    "K=S\n",
    "Pour tout X in K:\n",
    "  Si X indépendante de Xin conditionnellement à K\\{X) alors\n",
    "    Supprimer X de K\n",
    "retourner P(Xin|K)$\n",
    "```\n",
    "\n",
    "Trois petites aides :\n",
    "\n",
    "1- La fonction precédente `conditional_indep` devrait vous servir...\n",
    "\n",
    "2- Obtenir la liste des noms des variables dans un `Potential` se fait par l'attribut  \n",
    "```\n",
    "P.var_names\n",
    "```\n",
    "\n",
    "3- Afin que l'affichage soit plus facile à comprendre, il peut être judicieux de placer la variable $X_{i_n}$ en premier dans la liste des variables du Potential, ce que l'on peut faire avec le code suivant : \n",
    "```\n",
    "proba = proba.putFirst(Xin)\n",
    "```\n",
    "\n"
   ]
  },
  {
   "cell_type": "markdown",
   "metadata": {},
   "source": [
    "Le compactage de la loi jointe par rapport à `visit_to_Asia?` doit donner:\n",
    "<img src=\"compact_asia.png\" title=\"Distribution compacte\">\n",
    "On voit bien que la cible ne dépend plus de toutes les autres variables"
   ]
  },
  {
   "cell_type": "code",
   "execution_count": null,
   "metadata": {
    "execution": {
     "iopub.execute_input": "2023-09-16T14:05:32.564462Z",
     "iopub.status.busy": "2023-09-16T14:05:32.563994Z",
     "iopub.status.idle": "2023-09-16T14:05:32.584437Z",
     "shell.execute_reply": "2023-09-16T14:05:32.583750Z",
     "shell.execute_reply.started": "2023-09-16T14:05:32.564428Z"
    }
   },
   "outputs": [],
   "source": [
    "tme2.compact_conditional_proba(Pjointe,\"visit_to_Asia?\")"
   ]
  },
  {
   "cell_type": "code",
   "execution_count": null,
   "metadata": {
    "execution": {
     "iopub.execute_input": "2023-09-16T14:05:32.585486Z",
     "iopub.status.busy": "2023-09-16T14:05:32.585274Z",
     "iopub.status.idle": "2023-09-16T14:05:32.603377Z",
     "shell.execute_reply": "2023-09-16T14:05:32.602636Z",
     "shell.execute_reply.started": "2023-09-16T14:05:32.585467Z"
    }
   },
   "outputs": [],
   "source": [
    "tme2.compact_conditional_proba(Pjointe,\"dyspnoea?\")"
   ]
  },
  {
   "cell_type": "markdown",
   "metadata": {},
   "source": [
    "### IV.3- Création d'un réseau bayésien\n",
    "\n",
    "Un réseau bayésien est simplement la décomposition d'une distribution de probabilité jointe en un produit de probabilités conditionnelles: vous avez vu en cours que $P(A,B) = P(A|B)P(B)$, et ce quel que soient les ensembles de variables aléatoires disjoints $A$ et $B$. En posant $A = X_n$ et $B = \\{X_0,\\ldots,X_{n-1}\\}$, on obtient donc:\n",
    "\n",
    "$$P(X_0,\\ldots,X_n) = P(X_n | X_0,\\ldots,X_{n-1}) P(X_0,\\ldots,X_{n-1})$$\n",
    "\n",
    "On peut réitérer cette opération pour le terme de droite en posant $A = X_{n-1}$ et $B=\\{X_0,\\ldots,X_{n-2}\\}$, et ainsi de suite. Donc, par récurrence, on a:\n",
    "\n",
    "$$P(X_0,\\ldots,X_n) = P(X_0) \\times \\prod_{i=1}^n P(X_i | X_0,\\ldots,X_{i-1} )$$\n",
    "\n",
    "Si on applique à chaque terme $P(X_i | X_0,\\ldots,X_{i-1} )$ la fonction `compact_conditional_proba`, on obtient une décomposition:\n",
    "\n",
    "$$P(X_0,\\ldots,X_n) = P(X_0) \\times \\prod_{i=1}^n P(X_i | {\\cal K_i})$$\n",
    "\n",
    "avec $K_i \\subseteq \\{X_0,\\ldots,X_{i-1}\\}$}. Cette décomposition est dite ''compacte'' car son stockage nécessite en pratique beaucoup moins de mémoire que celui de la distribution jointe. C'est ce que l'on appelle un réseau bayésien.\n",
    "\n",
    "Écrire une fonction `create_bayesian_network : Potential -> Potential list` qui, étant donné une probabilité jointe, vous renvoie la liste des $P(X_i | {\\cal K_i})$. Pour cela, il vous suffit d'appliquer l'algorithme suivant:\n",
    "\n",
    "```\n",
    "liste = [] \n",
    "P = P(X_0,...,X_n)\n",
    "Pour i de n à 0 faire:\n",
    "  calculer Q = compact_conditional_proba(P,X_i)\n",
    "  afficher la liste des variables de Q\n",
    "  rajouter Q à liste\n",
    "  supprimer X_i de P par marginalisation\n",
    "\n",
    "retourner liste\n",
    "```\n",
    "\n",
    "Il est intéressant ici de noter les affichages des variables de Q: comme toutes les variables sont binaires, Q nécessite uniquement (2 puissance le nombre de ces variables) nombres réels. Ainsi une probabilité sur 3 variables ne nécessite que {$2^3=8$} nombres réels. \n"
   ]
  },
  {
   "cell_type": "code",
   "execution_count": null,
   "metadata": {
    "execution": {
     "iopub.execute_input": "2023-09-16T14:05:32.605255Z",
     "iopub.status.busy": "2023-09-16T14:05:32.604635Z",
     "iopub.status.idle": "2023-09-16T14:05:32.628642Z",
     "shell.execute_reply": "2023-09-16T14:05:32.627783Z",
     "shell.execute_reply.started": "2023-09-16T14:05:32.605221Z"
    }
   },
   "outputs": [],
   "source": [
    "rb = tme2.create_bayesian_network ( Pjointe, 0.001 )\n",
    "gnb.showPotential(rb[0])\n",
    "gnb.showPotential(rb[1])\n",
    "gnb.showPotential(rb[2])"
   ]
  },
  {
   "cell_type": "markdown",
   "metadata": {},
   "source": [
    "### IV.4- Gain en compression\n",
    "\n",
    "On souhaite observer le gain en termes de consommation mémoire obtenu par votre décomposition. Si `P` est un `Potential`, alors `P.domainSize()` est égal à la taille (le nombre de paramètres) de la table `P`. \n",
    "\n",
    "Ecrire une fonction qui, à partir de la loi jointe, calcule le nombre de paramètre de la loi jointe et le nombre de paramètre dans le réseau bayésien que vous créez grâce à votre fonction `create_bayesian_network`."
   ]
  },
  {
   "cell_type": "code",
   "execution_count": null,
   "metadata": {
    "execution": {
     "iopub.execute_input": "2023-09-16T14:05:32.630331Z",
     "iopub.status.busy": "2023-09-16T14:05:32.629915Z",
     "iopub.status.idle": "2023-09-16T14:05:32.650920Z",
     "shell.execute_reply": "2023-09-16T14:05:32.650353Z",
     "shell.execute_reply.started": "2023-09-16T14:05:32.630296Z"
    }
   },
   "outputs": [],
   "source": [
    "taille_jointe,taille_rb = tme2.calcNbParams(Pjointe)\n",
    "print(f\"{taille_jointe=}   {taille_rb=}\")"
   ]
  },
  {
   "cell_type": "markdown",
   "metadata": {},
   "source": [
    "## V- Applications pratiques (optionnelle)"
   ]
  },
  {
   "cell_type": "markdown",
   "metadata": {},
   "source": [
    "La technique de décomposition que vous avez vue est effectivement utilisée en pratique. Vous pouvez voir le gain que l'on peut obtenir sur différentes distributions de probabilité du site :\n",
    "\n",
    "http://www.bnlearn.com/bnrepository/\n",
    "\n",
    "Cliquez sur le nom du modèle que vous voulez visualiser et téléchargez son .bif ou .dsl. Afin de visualiser le contenu du fichier, vous allez utiliser pyAgrum. Le code suivant vous permettra alors de visualiser votre modèle : la valeur indiquée après \"domainSize\" est la taille de la probabilité jointe d'origine (en nombre de paramètres) et celle après \"dim\" est la taille de la probabilité sous forme compacte (somme des tailles des probabilités conditionnelles compactes). "
   ]
  },
  {
   "cell_type": "code",
   "execution_count": null,
   "metadata": {
    "execution": {
     "iopub.execute_input": "2023-09-16T14:05:32.652237Z",
     "iopub.status.busy": "2023-09-16T14:05:32.651894Z",
     "iopub.status.idle": "2023-09-16T14:05:32.777741Z",
     "shell.execute_reply": "2023-09-16T14:05:32.777124Z",
     "shell.execute_reply.started": "2023-09-16T14:05:32.652213Z"
    }
   },
   "outputs": [],
   "source": [
    "# chargement de pyAgrum\n",
    "import pyAgrum as gum\n",
    "import pyAgrum.lib.notebook as gnb\n",
    "\n",
    "# chargement du fichier bif ou dsl\n",
    "bn = gum.loadBN ( \"res/asia.bif\" )\n",
    "\n",
    "# affichage de la taille des probabilités jointes compacte (dim) et non compacte (domainSize)\n",
    "print(bn)\n",
    "\n",
    "# affichage graphique du réseau bayésien\n",
    "bn"
   ]
  },
  {
   "cell_type": "code",
   "execution_count": null,
   "metadata": {},
   "outputs": [],
   "source": []
  }
 ],
 "metadata": {
  "kernelspec": {
   "display_name": "Python 3 (ipykernel)",
   "language": "python",
   "name": "python3"
  },
  "language_info": {
   "codemirror_mode": {
    "name": "ipython",
    "version": 3
   },
   "file_extension": ".py",
   "mimetype": "text/x-python",
   "name": "python",
   "nbconvert_exporter": "python",
   "pygments_lexer": "ipython3",
   "version": "3.9.16"
  }
 },
 "nbformat": 4,
 "nbformat_minor": 4
}
