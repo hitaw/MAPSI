{
 "cells": [
  {
   "cell_type": "code",
   "execution_count": 28,
   "id": "45280629",
   "metadata": {},
   "outputs": [],
   "source": [
    "#Léa MOVSESSIAN, Timothé COLIN CHÊ-QUANG\n"
   ]
  },
  {
   "cell_type": "code",
   "execution_count": 29,
   "id": "b615e289",
   "metadata": {},
   "outputs": [
    {
     "name": "stdout",
     "output_type": "stream",
     "text": [
      "14 ['annee', 'mois', 'jour', 'heure', 'dep_ville', 'arr_ville', 'dep_coord_x', 'dep_coord_y', 'arr_coord_x', 'arr_coord_y', 'prix', 'marque', 'stars_confort', 'distance']\n",
      "(6428, 14)\n",
      "{'FORD': 6, 'BMW': 12, 'ISUZU': 32, 'OPEL': 1, 'LAND ROVER': 28, 'LIDER': 33, 'DS': 2, 'AUDI': 49, 'DACIA': 45, 'JAGUAR': 39, 'TOYOTA': 13, 'SUZUKI': 20, 'HUNDAI': 42, 'CITROEN': 17, 'IVECO': 8, 'RENAULT': 15, 'SKODA': 27, 'ROVER': 19, 'MITSUBISHI': 5, 'MERCEDES-BENZ': 35, 'DODGE': 29, 'ALFA ROMEO': 37, 'CHEVROLET': 26, 'LANCIA': 10, 'INFINITI': 36, 'DAEWOO': 30, 'MIETWAGEN': 38, 'VOLKSWAGEN': 3, 'LADA': 0, 'GOLF': 4, 'PORSCHE': 23, 'NISSAN': 40, 'unknown': 43, 'SSANGYONG': 34, 'FIAT': 50, 'SAAB': 14, 'CHRYSLER': 51, 'JEEP': 9, 'TESLA': 47, 'PEUGEOT': 25, 'MERCEDES BENZ': 48, 'MAZDA': 31, 'HONDA': 53, 'RANGE ROVER': 11, 'SMART': 24, 'KIA': 52, 'VOLVO': 46, 'LEXUS': 44, 'SUBARU': 18, 'SEAT': 16, 'MINI': 7, 'SUV LEXUS': 21, 'MERCEDES': 41, 'HYUNDAI': 22}\n"
     ]
    }
   ],
   "source": [
    "import numpy as np\n",
    "import matplotlib.pyplot as plt\n",
    "%matplotlib inline\n",
    "import pickle as pkl\n",
    "import math\n",
    "\n",
    "# chargement des données\n",
    "fich = pkl.load( open('donnees_blablacar.pkl', 'rb'))\n",
    "\n",
    "# {'indexcol': cols , 'data':pp2db, 'villes': villes, 'marques':marques }\n",
    "titles_col = fich['indexcol']\n",
    "print(len(titles_col), titles_col) \n",
    "data = fich['data']\n",
    "print(data.shape)\n",
    "dico_villes = fich['villes']\n",
    "dico_marques = fich['marques']\n",
    "print(dico_marques)"
   ]
  },
  {
   "cell_type": "code",
   "execution_count": 34,
   "id": "e331cff4",
   "metadata": {},
   "outputs": [
    {
     "name": "stdout",
     "output_type": "stream",
     "text": [
      "mean = 254.74066583696327\n",
      "std = 210.0702103161763\n",
      "quantile = [6.0, 64.0, 88.0, 111.0, 142.0, 182.0, 230.0, 316.0, 408.0, 550.0]\n"
     ]
    }
   ],
   "source": [
    "def analyse_rapide(d):\n",
    "    \n",
    "    mean = 0\n",
    "    i = 0\n",
    "    var = 0\n",
    "    liste = []\n",
    "    \n",
    "    #Calcul de la moyenne\n",
    "    for donnee in d:\n",
    "        mean += donnee[13]\n",
    "        i += 1\n",
    "        liste.append(donnee[13])\n",
    "    mean = mean/i \n",
    "    #On calcule la moyenne d'abord car on a besoin pour trouver le reste\n",
    "    \n",
    "    #Calcul variance\n",
    "    for donnee in d:\n",
    "        var += (donnee[13]-mean)**2\n",
    "        \n",
    "    var = var/i\n",
    "    std = math.sqrt(var) #Calcul de l'écart-type\n",
    "    liste.sort()\n",
    "    \n",
    "    #Calcul quantile\n",
    "    j = int(i/10)\n",
    "    k = 0\n",
    "    quantile = []\n",
    "    \n",
    "    while k < i-10:\n",
    "        quantile.append(liste[k])\n",
    "        k+=j\n",
    "        \n",
    "    print(\"mean = \"+ str(mean))\n",
    "    print(\"std = \" + str(std))\n",
    "    print(\"quantile = \" + str(quantile))\n",
    "    \n",
    "analyse_rapide(data)"
   ]
  },
  {
   "cell_type": "code",
   "execution_count": 87,
   "id": "de943706",
   "metadata": {},
   "outputs": [
    {
     "name": "stdout",
     "output_type": "stream",
     "text": [
      "bornes = [6.0, 80.93333333333334, 155.86666666666667, 230.8, 305.73333333333335, 380.6666666666667, 455.6, 530.5333333333333, 605.4666666666667, 680.4000000000001, 755.3333333333335, 830.2666666666669, 905.2000000000003, 980.1333333333337, 1055.066666666667, 1130.0000000000005, 1204.9333333333338, 1279.8666666666672, 1354.8000000000006, 1429.733333333334, 1504.6666666666674, 1579.6000000000008, 1654.5333333333342, 1729.4666666666676, 1804.400000000001, 1879.3333333333344, 1954.2666666666678, 2029.2000000000012, 2104.1333333333346, 2179.066666666668, 2254.0000000000014]\n",
      "effectifs =[1131, 1665, 1065, 550, 560, 355, 387, 278, 140, 87, 85, 41, 31, 26, 8, 7, 4, 2, 1, 0, 1, 1, 1, 1, 0, 0, 0, 0, 0, 1]\n"
     ]
    },
    {
     "data": {
      "image/png": "[encoded data removed]",
      "text/plain": [
       "<Figure size 640x480 with 1 Axes>"
      ]
     },
     "metadata": {},
     "output_type": "display_data"
    }
   ],
   "source": [
    "def discretisation_histogramme(d,n):\n",
    "    maxi = 0\n",
    "    mini = 500\n",
    "    liste = []\n",
    "    \n",
    "    for donnee in d:\n",
    "        liste.append(donnee[13])\n",
    "        if donnee[13] > maxi:\n",
    "            maxi = donnee[13]\n",
    "        elif donnee[13] < mini:\n",
    "            mini = donnee[13]\n",
    "    bornes = []\n",
    "    intervalle = (maxi-mini)/n\n",
    "    \n",
    "    j = mini\n",
    "    for i in range(0,n+1):\n",
    "        bornes.append(j)\n",
    "        j += intervalle\n",
    "    bornes.sort()\n",
    "    print(\"bornes = \" + str(bornes))\n",
    "    \n",
    "    effectifs = []\n",
    "    for i in range(0,n):\n",
    "        effectifs.append(np.where((liste>=bornes[i]) & (liste <= bornes[i+1]),1,0).sum())\n",
    "    print(\"effectifs =\" + str(effectifs))\n",
    "    \n",
    "    plt.bar(bornes, effectifs+[0], width = 100, color = 'red')\n",
    "    \n",
    "discretisation_histogramme(data,30)\n"
   ]
  },
  {
   "cell_type": "code",
   "execution_count": null,
   "id": "4a1d5644",
   "metadata": {},
   "outputs": [],
   "source": [
    "#Les bornes des intervalles discrets sont plus élevées que les quantiles car la majorité des gens se déplacent pour des distances très courtes. \n",
    "#On voit en effet que plus de la moitié des voyages sont dans les 3 premiers intervalles discrets"
   ]
  },
  {
   "cell_type": "code",
   "execution_count": 105,
   "id": "c882959d",
   "metadata": {},
   "outputs": [
    {
     "name": "stdout",
     "output_type": "stream",
     "text": [
      "bornes = [0.0, 0.015625, 0.03125, 0.046875, 0.0625, 0.078125, 0.09375, 0.109375, 0.125, 0.140625, 0.15625, 0.171875, 0.1875, 0.203125, 0.21875, 0.234375, 0.25, 0.265625, 0.28125, 0.296875, 0.3125, 0.328125, 0.34375, 0.359375, 0.375, 0.390625, 0.40625, 0.421875, 0.4375, 0.453125, 0.46875, 0.484375, 0.5, 0.515625, 0.53125, 0.546875, 0.5625, 0.578125, 0.59375, 0.609375, 0.625]\n",
      "effectifs =[38, 113, 1359, 4023, 920, 44, 8, 2, 1, 0, 1, 1, 0, 1, 0, 0, 0, 0, 0, 0, 0, 1, 1, 0, 0, 0, 0, 0, 0, 0, 0, 1, 1, 0, 0, 0, 0, 0, 0, 1]\n"
     ]
    },
    {
     "data": {
      "image/png": "[encoded data removed]",
      "text/plain": [
       "<Figure size 640x480 with 1 Axes>"
      ]
     },
     "metadata": {},
     "output_type": "display_data"
    }
   ],
   "source": [
    "def discretisation_prix_au_km(d,n):\n",
    "    liste = []\n",
    "    maxi = 0\n",
    "    mini = 500\n",
    "    \n",
    "    for donnee in d:\n",
    "        x = donnee[10]/donnee[13]\n",
    "        liste.append(x)\n",
    "        if x > maxi:\n",
    "            maxi = x\n",
    "        elif x < mini:\n",
    "            mini = x\n",
    "    \n",
    "    bornes = []\n",
    "    intervalle = (maxi-mini)/n\n",
    "    j = mini\n",
    "    for i in range(0,n+1):\n",
    "        bornes.append(j)\n",
    "        j += intervalle\n",
    "    bornes.sort()\n",
    "    print(\"bornes = \" + str(bornes))\n",
    "    \n",
    "    effectifs = []\n",
    "    for i in range(0,n):\n",
    "        effectifs.append(np.where((liste>=bornes[i]) & (liste <= bornes[i+1]),1,0).sum())\n",
    "    print(\"effectifs =\" + str(effectifs))\n",
    "    \n",
    "    plt.bar(bornes, effectifs+[0], width = 0.02, color = 'red')\n",
    "    \n",
    "\n",
    "discretisation_prix_au_km(data,40)\n",
    "\n"
   ]
  },
  {
   "cell_type": "code",
   "execution_count": null,
   "id": "78300851",
   "metadata": {},
   "outputs": [],
   "source": []
  }
 ],
 "metadata": {
  "kernelspec": {
   "display_name": "Python 3 (ipykernel)",
   "language": "python",
   "name": "python3"
  },
  "language_info": {
   "codemirror_mode": {
    "name": "ipython",
    "version": 3
   },
   "file_extension": ".py",
   "mimetype": "text/x-python",
   "name": "python",
   "nbconvert_exporter": "python",
   "pygments_lexer": "ipython3",
   "version": "3.9.6"
  }
 },
 "nbformat": 4,
 "nbformat_minor": 5
}
